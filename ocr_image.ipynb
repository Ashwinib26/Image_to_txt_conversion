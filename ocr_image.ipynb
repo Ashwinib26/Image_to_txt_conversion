{
 "cells": [
  {
   "cell_type": "code",
   "execution_count": 6,
   "id": "7b86212d-9ad5-4009-bd67-d4320f6a9ed7",
   "metadata": {},
   "outputs": [],
   "source": [
    "pip install opencv-python"
   ]
  },
  {
   "cell_type": "code",
   "execution_count": 3,
   "id": "e674c55b-fa66-4a69-92d7-516543bb545a",
   "metadata": {},
   "outputs": [
    {
     "name": "stdout",
     "output_type": "stream",
     "text": [
      "Requirement already satisfied: pytesseract in d:\\projects\\ml\\image to text\\.venv\\lib\\site-packages (0.3.13)Note: you may need to restart the kernel to use updated packages.\n",
      "\n",
      "Requirement already satisfied: packaging>=21.3 in d:\\projects\\ml\\image to text\\.venv\\lib\\site-packages (from pytesseract) (24.1)\n",
      "Requirement already satisfied: Pillow>=8.0.0 in d:\\projects\\ml\\image to text\\.venv\\lib\\site-packages (from pytesseract) (10.4.0)\n"
     ]
    }
   ],
   "source": [
    "pip install pytesseract"
   ]
  },
  {
   "cell_type": "code",
   "execution_count": 5,
   "id": "0ff6580f-65fb-416e-8016-07768cd3068d",
   "metadata": {},
   "outputs": [
    {
     "name": "stdout",
     "output_type": "stream",
     "text": [
      "Extracted Product Description:\n",
      " It was the best of\n",
      "times, it was the worst\n",
      "of times, it was the age\n",
      "of wisdom, it was the\n",
      "age of foolishness...\n",
      "\n"
     ]
    }
   ],
   "source": [
    "\n",
    "import cv2\n",
    "import pytesseract\n",
    "from pytesseract import Output\n",
    "\n",
    "pytesseract.pytesseract.tesseract_cmd = r'C:/Program Files/Tesseract-OCR/tesseract.exe'  # Update the path\n",
    "\n",
    "image_path = 'D:/projects/ML/Image to text/images.png'\n",
    "image = cv2.imread(image_path)\n",
    "\n",
    "gray = cv2.cvtColor(image, cv2.COLOR_BGR2GRAY)  \n",
    "blurred = cv2.GaussianBlur(gray, (5, 5), 0)  \n",
    "thresh = cv2.threshold(blurred, 150, 255, cv2.THRESH_BINARY_INV)[1] \n",
    "\n",
    "#OCR part\n",
    "custom_config = r'--oem 3 --psm 6'  \n",
    "text = pytesseract.image_to_string(thresh, config=custom_config)\n",
    "\n",
    "print(\"Extracted Product Description:\\n\", text)\n",
    "\n",
    "cv2.imshow('Processed Image', thresh)\n",
    "cv2.waitKey(0)\n",
    "cv2.destroyAllWindows()\n"
   ]
  },
  {
   "cell_type": "code",
   "execution_count": null,
   "id": "2c6f0063",
   "metadata": {},
   "outputs": [],
   "source": []
  }
 ],
 "metadata": {
  "kernelspec": {
   "display_name": "Python 3 (ipykernel)",
   "language": "python",
   "name": "python3"
  },
  "language_info": {
   "codemirror_mode": {
    "name": "ipython",
    "version": 3
   },
   "file_extension": ".py",
   "mimetype": "text/x-python",
   "name": "python",
   "nbconvert_exporter": "python",
   "pygments_lexer": "ipython3",
   "version": "3.12.2"
  }
 },
 "nbformat": 4,
 "nbformat_minor": 5
}
